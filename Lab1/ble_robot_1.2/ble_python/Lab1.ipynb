{
 "cells": [
  {
   "cell_type": "code",
   "execution_count": 108,
   "id": "8509bfae-6774-416a-acf9-0dc6af43c286",
   "metadata": {},
   "outputs": [
    {
     "name": "stdout",
     "output_type": "stream",
     "text": [
      "The autoreload extension is already loaded. To reload it, use:\n",
      "  %reload_ext autoreload\n"
     ]
    }
   ],
   "source": [
    "%load_ext autoreload\n",
    "%autoreload 2\n",
    "\n",
    "from ble import get_ble_controller\n",
    "from base_ble import LOG\n",
    "from cmd_types import CMD\n",
    "import time\n",
    "import numpy as np\n",
    "\n",
    "LOG.propagate = False"
   ]
  },
  {
   "cell_type": "code",
   "execution_count": 120,
   "id": "5971138b-f052-4df5-b487-57797124432f",
   "metadata": {},
   "outputs": [
    {
     "name": "stdout",
     "output_type": "stream",
     "text": [
      "2025-01-28 15:13:39,491 |\u001b[32m INFO     \u001b[0m|: Looking for Artemis Nano Peripheral Device: C0:81:8D:26:04:64\n",
      "2025-01-28 15:13:48,621 |\u001b[32m INFO     \u001b[0m|: Connected to C0:81:8D:26:04:64\n"
     ]
    }
   ],
   "source": [
    "# Get ArtemisBLEController object\n",
    "ble = get_ble_controller()\n",
    "\n",
    "# Connect to the Artemis Device\n",
    "ble.connect()"
   ]
  },
  {
   "cell_type": "markdown",
   "id": "4fa0b83d-8c53-401c-904c-1878a9157636",
   "metadata": {},
   "source": [
    "## Echo Command"
   ]
  },
  {
   "cell_type": "code",
   "execution_count": 91,
   "id": "c33a6b33-274b-49c0-b246-f30681df4b93",
   "metadata": {},
   "outputs": [],
   "source": [
    "ble.send_command(CMD.ECHO, \"Hello World\")"
   ]
  },
  {
   "cell_type": "code",
   "execution_count": 92,
   "id": "60385769-9cad-4e14-84f7-02a6c0d68855",
   "metadata": {},
   "outputs": [
    {
     "name": "stdout",
     "output_type": "stream",
     "text": [
      "Robot says -> Hello World :)\n"
     ]
    }
   ],
   "source": [
    "s = ble.receive_string(ble.uuid['RX_STRING'])\n",
    "print(s)"
   ]
  },
  {
   "cell_type": "markdown",
   "id": "80abe736-7a03-473c-902e-93fa9c9a9c3b",
   "metadata": {},
   "source": [
    "## Send 3 Floats command"
   ]
  },
  {
   "cell_type": "code",
   "execution_count": 93,
   "id": "40aee8f6-c845-4a36-9ce2-64a240c26cd9",
   "metadata": {},
   "outputs": [],
   "source": [
    "ble.send_command(CMD.SEND_THREE_FLOATS, \"2.71828|3.14159|6.28\")"
   ]
  },
  {
   "cell_type": "markdown",
   "id": "36009830-e4c8-4474-b1f0-98d8772a573c",
   "metadata": {},
   "source": [
    "## Get Time Millis Command"
   ]
  },
  {
   "cell_type": "code",
   "execution_count": 94,
   "id": "235a27b4-d1dd-4877-b976-7a8776b84322",
   "metadata": {},
   "outputs": [
    {
     "name": "stdout",
     "output_type": "stream",
     "text": [
      "T:18015\n"
     ]
    }
   ],
   "source": [
    "ble.send_command(CMD.GET_TIME_MILLIS, \"\")\n",
    "s = ble.receive_string(ble.uuid['RX_STRING'])\n",
    "print(s)"
   ]
  },
  {
   "cell_type": "markdown",
   "id": "93f69a2e-6a92-4140-8565-4a15b126c3ed",
   "metadata": {},
   "source": [
    "## Time Notification Handler"
   ]
  },
  {
   "cell_type": "code",
   "execution_count": 102,
   "id": "e9ddb619-d579-419f-9ede-d0055c47df6e",
   "metadata": {},
   "outputs": [],
   "source": [
    "def time_notification_handler(uuid, bytearr):\n",
    "    timestr = ble.bytearray_to_string(bytearr)\n",
    "    milli = timestr.split(\"T:\")[1]\n",
    "    print(milli)\n",
    "\n",
    "\n",
    "ble.start_notify(ble.uuid['RX_STRING'], time_notification_handler)"
   ]
  },
  {
   "cell_type": "code",
   "execution_count": 96,
   "id": "88c6611d-f672-4bf3-8bcd-16be9a78b14f",
   "metadata": {},
   "outputs": [
    {
     "name": "stdout",
     "output_type": "stream",
     "text": [
      "20063\n"
     ]
    }
   ],
   "source": [
    "ble.send_command(CMD.GET_TIME_MILLIS, \"\")"
   ]
  },
  {
   "cell_type": "code",
   "execution_count": 128,
   "id": "1ee34f8d-cffe-49fa-855f-c877b3fddbe9",
   "metadata": {},
   "outputs": [],
   "source": [
    "#optional to stop notifications\n",
    "ble.stop_notify(ble.uuid['RX_STRING'])"
   ]
  },
  {
   "cell_type": "markdown",
   "id": "97748d95-27a4-43d8-bdf3-06fbd8d5903c",
   "metadata": {},
   "source": [
    "## Looping Time"
   ]
  },
  {
   "cell_type": "code",
   "execution_count": 104,
   "id": "239880f3-a430-457d-a346-d41b76ad337e",
   "metadata": {},
   "outputs": [
    {
     "name": "stdout",
     "output_type": "stream",
     "text": [
      "79297\n",
      "79299\n",
      "79300\n",
      "79307\n",
      "79325\n",
      "79331\n",
      "79360\n",
      "79361\n",
      "79386\n",
      "79388\n",
      "79419\n",
      "79446\n",
      "79448\n",
      "79481\n",
      "79482\n",
      "79508\n",
      "79540\n",
      "79541\n",
      "79565\n",
      "79575\n",
      "79597\n",
      "79632\n",
      "79633\n",
      "79635\n",
      "79658\n",
      "79693\n",
      "79695\n",
      "79720\n",
      "79721\n",
      "79751\n",
      "79779\n",
      "79781\n",
      "79814\n",
      "79815\n",
      "79837\n",
      "79873\n",
      "79875\n",
      "79902\n",
      "79903\n",
      "79929\n",
      "79959\n",
      "79961\n",
      "79988\n",
      "79990\n",
      "80023\n",
      "80052\n",
      "80053\n",
      "80083\n",
      "80085\n",
      "80111\n",
      "80141\n",
      "80143\n",
      "80174\n",
      "80175\n",
      "80197\n",
      "80232\n",
      "80234\n",
      "80265\n",
      "80266\n",
      "80289\n",
      "80325\n",
      "80326\n",
      "80328\n",
      "80351\n",
      "80378\n",
      "80380\n",
      "80413\n",
      "80414\n",
      "80439\n",
      "80472\n",
      "80473\n",
      "80501\n",
      "80502\n",
      "80534\n",
      "80564\n",
      "80566\n",
      "80593\n",
      "80595\n",
      "80622\n",
      "80650\n",
      "80652\n",
      "80686\n",
      "80688\n",
      "80715\n",
      "80741\n",
      "80743\n",
      "80777\n",
      "80779\n",
      "80803\n",
      "80833\n",
      "80835\n",
      "80859\n",
      "80868\n",
      "80892\n",
      "80919\n",
      "80927\n",
      "80929\n",
      "80957\n",
      "80987\n",
      "80989\n",
      "81013\n",
      "81015\n",
      "81040\n",
      "81076\n",
      "81078\n",
      "81105\n",
      "81107\n",
      "81132\n",
      "81168\n",
      "81170\n",
      "81195\n",
      "81196\n",
      "81221\n",
      "81255\n",
      "81257\n",
      "81286\n",
      "81287\n",
      "81313\n",
      "81342\n",
      "81343\n",
      "81378\n",
      "81380\n",
      "81402\n",
      "81437\n",
      "81439\n",
      "81464\n",
      "81465\n",
      "81496\n",
      "81523\n",
      "81525\n",
      "81559\n",
      "81561\n",
      "81588\n",
      "81618\n",
      "81620\n",
      "81645\n",
      "81646\n",
      "81671\n",
      "81704\n",
      "81705\n",
      "81739\n",
      "81740\n",
      "81766\n",
      "81796\n",
      "81798\n",
      "81822\n",
      "81831\n",
      "81855\n",
      "81882\n",
      "81891\n",
      "81892\n",
      "81920\n",
      "81945\n",
      "81947\n",
      "81980\n",
      "81981\n",
      "82003\n",
      "82039\n",
      "82041\n",
      "82070\n",
      "82072\n",
      "82096\n",
      "82131\n",
      "82133\n",
      "82158\n",
      "82159\n",
      "82191\n",
      "82221\n",
      "82223\n",
      "82247\n",
      "82249\n",
      "82280\n",
      "82307\n",
      "82309\n",
      "82338\n",
      "82340\n",
      "82366\n",
      "82399\n",
      "82401\n",
      "82432\n",
      "82433\n",
      "82455\n",
      "82491\n",
      "82493\n",
      "82520\n",
      "82521\n",
      "82547\n",
      "82582\n",
      "82584\n",
      "82611\n",
      "82612\n",
      "82636\n",
      "82672\n",
      "82674\n",
      "82698\n",
      "82700\n",
      "82725\n",
      "82763\n",
      "82765\n",
      "82789\n",
      "82791\n",
      "82818\n",
      "82848\n",
      "82850\n",
      "82883\n",
      "82885\n",
      "82912\n",
      "82938\n",
      "82939\n",
      "82967\n",
      "82969\n",
      "82999\n",
      "83026\n",
      "83028\n",
      "83061\n",
      "83062\n",
      "83087\n",
      "83123\n",
      "83125\n",
      "83152\n",
      "83153\n",
      "83179\n",
      "83214\n",
      "83216\n",
      "83243\n",
      "83244\n",
      "83270\n",
      "83296\n",
      "83302\n",
      "83334\n",
      "83336\n",
      "83361\n",
      "83363\n",
      "83387\n",
      "83425\n",
      "83427\n",
      "83451\n",
      "83453\n",
      "83478\n",
      "83513\n",
      "83515\n",
      "83540\n",
      "83541\n",
      "83569\n",
      "83604\n",
      "83606\n",
      "83631\n",
      "83632\n",
      "83657\n",
      "83692\n",
      "83693\n",
      "83725\n",
      "83726\n",
      "83748\n",
      "83784\n",
      "83786\n",
      "83813\n",
      "83814\n",
      "83839\n",
      "83872\n",
      "83873\n",
      "83901\n",
      "83903\n",
      "83934\n",
      "83964\n",
      "83966\n",
      "83993\n",
      "83995\n",
      "84022\n",
      "84052\n",
      "84054\n",
      "84087\n",
      "84089\n",
      "84116\n",
      "84146\n",
      "84148\n",
      "84173\n",
      "84174\n",
      "84199\n",
      "84234\n",
      "84236\n",
      "84267\n",
      "84268\n",
      "84293\n",
      "2025-01-27 13:04:43,913 |\u001b[32m INFO     \u001b[0m|: Disconnected from 1EFFEDB9-73BA-9396-D724-47E443C12C76\n"
     ]
    }
   ],
   "source": [
    "ble.send_command(CMD.START_TIME_LOOP, \"\")"
   ]
  },
  {
   "cell_type": "markdown",
   "id": "25eca403-957f-499e-82ed-fec31a6fc008",
   "metadata": {},
   "source": [
    "## Time Stamp Array"
   ]
  },
  {
   "cell_type": "code",
   "execution_count": 120,
   "id": "71b77a5e-bb3e-4eb6-9b6d-26e09467eeee",
   "metadata": {},
   "outputs": [],
   "source": [
    "#Prompt recording data from loop\n",
    "ble.send_command(CMD.START_TIME_LOOP, \"\")"
   ]
  },
  {
   "cell_type": "code",
   "execution_count": 121,
   "id": "235b1ad4-5290-4e5f-93c5-3b5eba825eaa",
   "metadata": {},
   "outputs": [],
   "source": [
    "time_list = []\n",
    "\n",
    "def time_array_handler(uuid, bytearr):\n",
    "    timestr = ble.bytearray_to_string(bytearr)\n",
    "    milli = timestr.split(\"T:\")[1]\n",
    "    time_list.append(milli)\n",
    "\n",
    "\n",
    "ble.start_notify(ble.uuid['RX_STRING'], time_array_handler)\n",
    "#Send the time data array\n",
    "ble.send_command(CMD.SEND_TIME_DATA, \"\")"
   ]
  },
  {
   "cell_type": "code",
   "execution_count": 110,
   "id": "06fd6461-aa00-4e90-877a-c720313282c4",
   "metadata": {},
   "outputs": [
    {
     "name": "stdout",
     "output_type": "stream",
     "text": [
      "['533871', '533871', '533871', '533871', '533871', '533871', '533871', '533871', '533871', '533871', '533871', '533871', '533871', '533871', '533871', '533871', '533871', '533871', '533871', '533871', '533872', '533872', '533872', '533872', '533872', '533872', '533872', '533872', '533872', '533872', '533872', '533872', '533872', '533872', '533872', '533872', '533872', '533872', '533872', '533872', '533872', '533872', '533872', '533872', '533872', '533872', '533872', '533872', '533872', '533872', '533873', '533873', '533873', '533873', '533873', '533873', '533873', '533873', '533873', '533873', '533873', '533873', '533873', '533873', '533873', '533873', '533873', '533873', '533873', '533873', '533873', '533873', '533873', '533873', '533873', '533873', '533873', '533873', '533874', '533874', '533874', '533874', '533874', '533874', '533874', '533874', '533874', '533874', '533874', '533874', '533874', '533874', '533874', '533874', '533874', '533874', '533874', '533874', '533874', '533874', '533874', '533874', '533874', '533874', '533874', '533874', '533874', '533874', '533874', '533874', '533875', '533875', '533875', '533875', '533875', '533875', '533875', '533875', '533875', '533875', '533875', '533875', '533875', '533875', '533875', '533875', '533875', '533875']\n",
      "128\n",
      "2025-01-27 13:24:50,749 |\u001b[32m INFO     \u001b[0m|: Disconnected from 1EFFEDB9-73BA-9396-D724-47E443C12C76\n"
     ]
    }
   ],
   "source": [
    "print(time_list)\n",
    "print(len(time_list))"
   ]
  },
  {
   "cell_type": "markdown",
   "id": "abb63c4a-69f9-402e-8969-77ca8fe48d18",
   "metadata": {},
   "source": [
    "## Temperatures with Time Stamps"
   ]
  },
  {
   "cell_type": "code",
   "execution_count": 153,
   "id": "28b66a32-d10b-44f2-90a2-ae0f7c6d971c",
   "metadata": {},
   "outputs": [],
   "source": [
    "#Prompt recording data from loop\n",
    "ble.send_command(CMD.START_TIME_LOOP, \"\")"
   ]
  },
  {
   "cell_type": "code",
   "execution_count": 154,
   "id": "1c0ea24c-c746-49ef-8ceb-c82224d0b20d",
   "metadata": {},
   "outputs": [],
   "source": [
    "time_list = []\n",
    "temp_list = []\n",
    "\n",
    "def time_array_handler(uuid, bytearr):\n",
    "    timetemp = ble.bytearray_to_string(bytearr)\n",
    "    arr = timetemp.split(\"Time:\")[1] #Split time and temperature in message\n",
    "    time, temp = arr.split(\"Temp:\")\n",
    "    time_list.append(time)\n",
    "    temp_list.append(temp)\n",
    "\n",
    "\n",
    "ble.start_notify(ble.uuid['RX_STRING'], time_array_handler)\n",
    "#Send the time data array\n",
    "ble.send_command(CMD.GET_TEMP_READINGS, \"\")"
   ]
  },
  {
   "cell_type": "code",
   "execution_count": 155,
   "id": "de65853c-674d-4e13-93fd-7bced7b29de8",
   "metadata": {},
   "outputs": [
    {
     "name": "stdout",
     "output_type": "stream",
     "text": [
      "Time Array: ['194245', '194245', '194245', '194245', '194246', '194246', '194246', '194246', '194246', '194246', '194246', '194246', '194246', '194247', '194247', '194247', '194247', '194247', '194247', '194247', '194247', '194247', '194248', '194248', '194248', '194248', '194248', '194248', '194248', '194249', '194249', '194249', '194249', '194249', '194249', '194249', '194249', '194249', '194250', '194250', '194250', '194250', '194250', '194250', '194250', '194250', '194250', '194251', '194252', '194252', '194252', '194252', '194252', '194252', '194252', '194253', '194253', '194253', '194253', '194253', '194253', '194253', '194253', '194253', '194254', '194254', '194254', '194254', '194254', '194254', '194254', '194254', '194255', '194255', '194255', '194255', '194255', '194255', '194255', '194255', '194255', '194256', '194256', '194256', '194256', '194256', '194256', '194256', '194256', '194256', '194257', '194257', '194257', '194257', '194257', '194257', '194257', '194257', '194258', '194259', '194259', '194259', '194259', '194259', '194259', '194259', '194260', '194260', '194260', '194260', '194260', '194260', '194260', '194260', '194260', '194261', '194261', '194261', '194261', '194261', '194261', '194261', '194261', '194262', '194262', '194262', '194262', '194262'] \n",
      " Time array length 128\n",
      "Temp Array: ['516', '515', '515', '514', '515', '515', '516', '515', '515', '515', '515', '515', '515', '515', '514', '514', '515', '516', '516', '516', '515', '516', '515', '516', '516', '516', '516', '516', '515', '515', '516', '515', '515', '516', '515', '515', '515', '515', '515', '516', '515', '515', '515', '515', '516', '515', '515', '515', '516', '515', '515', '515', '515', '515', '515', '516', '515', '516', '516', '515', '516', '515', '515', '515', '515', '515', '515', '515', '516', '514', '515', '515', '515', '515', '515', '515', '515', '515', '515', '516', '516', '516', '515', '516', '515', '515', '515', '516', '516', '516', '516', '516', '515', '515', '515', '515', '515', '515', '516', '516', '515', '516', '515', '515', '515', '515', '515', '516', '515', '515', '515', '515', '515', '515', '515', '514', '516', '515', '515', '515', '515', '515', '515', '516', '515', '515', '514', '515'] \n",
      " Temp array length 128\n"
     ]
    }
   ],
   "source": [
    "print(\"Time Array:\", time_list, \"\\n Time array length\", len(time_list))\n",
    "print(\"Temp Array:\", temp_list, \"\\n Temp array length\", len(temp_list))"
   ]
  },
  {
   "cell_type": "code",
   "execution_count": 118,
   "id": "41f69f2b-2640-4737-8ea5-4bdf6d5147cc",
   "metadata": {},
   "outputs": [],
   "source": [
    "#optional to stop notifications\n",
    "ble.stop_notify(ble.uuid['RX_STRING'])"
   ]
  },
  {
   "cell_type": "markdown",
   "id": "2d35553e-20e8-4da3-bc50-a9043eceac38",
   "metadata": {},
   "source": [
    "## Byte Overhead"
   ]
  },
  {
   "cell_type": "code",
   "execution_count": 110,
   "id": "aaf97d1a-0131-4e2d-88cb-f6968b0452eb",
   "metadata": {},
   "outputs": [],
   "source": [
    "start_time = 0\n",
    "def var_byte_handler(uuid, bytearr):\n",
    "    print(bytearr)\n",
    "    print(len(ble.bytearray_to_string(bytearr)), \"Bytes, \", end=\"\")\n",
    "    cur_time = time.time()\n",
    "    comm_time = cur_time - start_time\n",
    "    print(\"Time For Request: \", comm_time)\n",
    "\n",
    "\n",
    "ble.start_notify(ble.uuid['RX_STRING'], var_byte_handler)\n"
   ]
  },
  {
   "cell_type": "code",
   "execution_count": 111,
   "id": "5b43fb88-a7f6-4975-9c68-c40e9d2654b5",
   "metadata": {},
   "outputs": [
    {
     "name": "stdout",
     "output_type": "stream",
     "text": [
      "bytearray(b'aaaaa')\n",
      "5 Bytes, Time For Request:  0.07727885246276855\n"
     ]
    }
   ],
   "source": [
    "ble.send_command(CMD.INIT_VAR, \"5\")\n",
    "time.sleep(1)\n",
    "start_time = time.time()\n",
    "ble.send_command(CMD.VAR_BYTE_RESPONSE, \"\")"
   ]
  },
  {
   "cell_type": "code",
   "execution_count": 112,
   "id": "2ac836b2-24a4-43c4-ab1c-9c950f4980ad",
   "metadata": {},
   "outputs": [
    {
     "name": "stdout",
     "output_type": "stream",
     "text": [
      "bytearray(b'aaaaaaaaaaaaaaaaaaaa')\n",
      "20 Bytes, Time For Request:  0.07754898071289062\n"
     ]
    }
   ],
   "source": [
    "ble.send_command(CMD.INIT_VAR, \"20\")\n",
    "time.sleep(1)\n",
    "start_time = time.time()\n",
    "ble.send_command(CMD.VAR_BYTE_RESPONSE, \"\")"
   ]
  },
  {
   "cell_type": "code",
   "execution_count": 113,
   "id": "e4bc92d1-9546-442e-b7a1-718d99f972f2",
   "metadata": {},
   "outputs": [
    {
     "name": "stdout",
     "output_type": "stream",
     "text": [
      "bytearray(b'aaaaaaaaaaaaaaaaaaaaaaaaaaaaaaaaaaaaaaaa')\n",
      "40 Bytes, Time For Request:  0.07959675788879395\n"
     ]
    }
   ],
   "source": [
    "ble.send_command(CMD.INIT_VAR, \"40\")\n",
    "time.sleep(1)\n",
    "start_time = time.time()\n",
    "ble.send_command(CMD.VAR_BYTE_RESPONSE, \"\")"
   ]
  },
  {
   "cell_type": "code",
   "execution_count": 114,
   "id": "ec0753da-064a-43f5-a823-6e5f1727f3e5",
   "metadata": {},
   "outputs": [
    {
     "name": "stdout",
     "output_type": "stream",
     "text": [
      "bytearray(b'aaaaaaaaaaaaaaaaaaaaaaaaaaaaaaaaaaaaaaaaaaaaaaaaaaaaaaaaaaaa')\n",
      "60 Bytes, Time For Request:  0.0765218734741211\n"
     ]
    }
   ],
   "source": [
    "ble.send_command(CMD.INIT_VAR, \"60\")\n",
    "time.sleep(1)\n",
    "start_time = time.time()\n",
    "ble.send_command(CMD.VAR_BYTE_RESPONSE, \"\")"
   ]
  },
  {
   "cell_type": "code",
   "execution_count": 115,
   "id": "d0c04e14-5276-4c0c-89f6-b26aed0f14ab",
   "metadata": {},
   "outputs": [
    {
     "name": "stdout",
     "output_type": "stream",
     "text": [
      "bytearray(b'aaaaaaaaaaaaaaaaaaaaaaaaaaaaaaaaaaaaaaaaaaaaaaaaaaaaaaaaaaaaaaaaaaaaaaaaaaaaaaaa')\n",
      "80 Bytes, Time For Request:  0.07977795600891113\n"
     ]
    }
   ],
   "source": [
    "ble.send_command(CMD.INIT_VAR, \"80\")\n",
    "time.sleep(1)\n",
    "start_time = time.time()\n",
    "ble.send_command(CMD.VAR_BYTE_RESPONSE, \"\")"
   ]
  },
  {
   "cell_type": "code",
   "execution_count": 116,
   "id": "60abc59a-8a9e-4850-bacc-bb76789b8978",
   "metadata": {},
   "outputs": [
    {
     "name": "stdout",
     "output_type": "stream",
     "text": [
      "bytearray(b'aaaaaaaaaaaaaaaaaaaaaaaaaaaaaaaaaaaaaaaaaaaaaaaaaaaaaaaaaaaaaaaaaaaaaaaaaaaaaaaaaaaaaaaaaaaaaaaaaaaa')\n",
      "100 Bytes, Time For Request:  0.08170604705810547\n"
     ]
    }
   ],
   "source": [
    "ble.send_command(CMD.INIT_VAR, \"100\")\n",
    "time.sleep(1)\n",
    "start_time = time.time()\n",
    "ble.send_command(CMD.VAR_BYTE_RESPONSE, \"\")"
   ]
  },
  {
   "cell_type": "code",
   "execution_count": 117,
   "id": "2efa7f38-1be4-4428-aed6-b38425efde7f",
   "metadata": {},
   "outputs": [
    {
     "name": "stdout",
     "output_type": "stream",
     "text": [
      "bytearray(b'aaaaaaaaaaaaaaaaaaaaaaaaaaaaaaaaaaaaaaaaaaaaaaaaaaaaaaaaaaaaaaaaaaaaaaaaaaaaaaaaaaaaaaaaaaaaaaaaaaaaaaaaaaaaaaaaaaaaaaaa')\n",
      "120 Bytes, Time For Request:  0.07774209976196289\n"
     ]
    }
   ],
   "source": [
    "ble.send_command(CMD.INIT_VAR, \"120\")\n",
    "time.sleep(1)\n",
    "start_time = time.time()\n",
    "ble.send_command(CMD.VAR_BYTE_RESPONSE, \"\")"
   ]
  },
  {
   "cell_type": "markdown",
   "id": "170fc6f1-77ab-4fea-b2ef-8c5e8f964001",
   "metadata": {},
   "source": [
    "## Reliability Test"
   ]
  },
  {
   "cell_type": "code",
   "execution_count": 121,
   "id": "16835c83-4f5a-410d-b7d0-96c1ff0e02a7",
   "metadata": {},
   "outputs": [],
   "source": [
    "contlist = []\n",
    "def time_array_handler(uuid, bytearr):\n",
    "    i = ble.bytearray_to_float(bytearr)\n",
    "    #print(i, end=\" \")\n",
    "    contlist.append(i)\n",
    "\n",
    "\n",
    "ble.start_notify(ble.uuid['RX_FLOAT'], time_array_handler)\n",
    "#Start continuously sending ints\n",
    "ble.send_command(CMD.INT_LOOP, \"\")\n"
   ]
  },
  {
   "cell_type": "code",
   "execution_count": 124,
   "id": "7667a425-fc03-4cc2-b7de-e1a51e41590a",
   "metadata": {},
   "outputs": [
    {
     "name": "stdout",
     "output_type": "stream",
     "text": [
      "Discontinuity at  0\n",
      "753\n"
     ]
    }
   ],
   "source": [
    "#Takes significantly longer to unpack characteristics than to send them, so ends up not being live time due to large data backlog\n",
    "#May be because a buffer is storing the message and the bluetooth operation is only occuring now\n",
    "\n",
    "for i in range(len(contlist)):\n",
    "    if (i < len(contlist) - 1):\n",
    "        #print(i, end=\" \")\n",
    "        if (abs(contlist[i+1]-contlist[i]) > 1):\n",
    "            print(\"Discontinuity at \", i)\n",
    "print(len(contlist))"
   ]
  },
  {
   "cell_type": "code",
   "execution_count": 272,
   "id": "0871a841-455a-4207-8c17-3fa7e7d1a499",
   "metadata": {},
   "outputs": [],
   "source": [
    "#optional to stop notifications\n",
    "ble.stop_notify(ble.uuid['RX_FLOAT'])"
   ]
  },
  {
   "cell_type": "code",
   "execution_count": null,
   "id": "9989f0ee-1688-4eac-8db2-deba27e687eb",
   "metadata": {},
   "outputs": [],
   "source": [
    "ble.disconnect()"
   ]
  }
 ],
 "metadata": {
  "kernelspec": {
   "display_name": "Python 3 (ipykernel)",
   "language": "python",
   "name": "python3"
  },
  "language_info": {
   "codemirror_mode": {
    "name": "ipython",
    "version": 3
   },
   "file_extension": ".py",
   "mimetype": "text/x-python",
   "name": "python",
   "nbconvert_exporter": "python",
   "pygments_lexer": "ipython3",
   "version": "3.13.1"
  }
 },
 "nbformat": 4,
 "nbformat_minor": 5
}
